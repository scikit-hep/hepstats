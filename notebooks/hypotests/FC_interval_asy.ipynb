{
 "cells": [
  {
   "cell_type": "markdown",
   "metadata": {
    "pycharm": {
     "name": "#%% md\n"
    }
   },
   "source": [
    "# Feldman and Cousins intervals with asymptotics.\n",
    "\n",
    "This is a copy of `FC_interval_freq.ipynb` using the asymptotic formulae instead of toys."
   ]
  },
  {
   "cell_type": "code",
   "execution_count": null,
   "metadata": {
    "pycharm": {
     "name": "#%%\n"
    }
   },
   "outputs": [],
   "source": [
    "from __future__ import annotations\n",
    "\n",
    "import matplotlib.pyplot as plt\n",
    "import numpy as np\n",
    "import zfit\n",
    "from zfit.loss import UnbinnedNLL\n",
    "from zfit.minimize import Minuit\n",
    "\n",
    "from hepstats.hypotests import ConfidenceInterval\n",
    "from hepstats.hypotests.calculators import AsymptoticCalculator\n",
    "from hepstats.hypotests.exceptions import POIRangeError\n",
    "from hepstats.hypotests.parameters import POIarray\n",
    "\n",
    "zfit.settings.set_seed(10)"
   ]
  },
  {
   "cell_type": "markdown",
   "metadata": {
    "pycharm": {
     "name": "#%% md\n"
    }
   },
   "source": [
    "In this example we consider an experiment where the observable $x$ is simply the measured value of $\\mu$ in an experiment with a Gaussian resolution with known width $\\sigma = 1$. We will compute the confidence belt for a 90 % condifdence level for the mean of the Gaussian $\\mu$.\n",
    "\n",
    "We define a sampler below for a Gaussian pdf with $\\sigma = 1$ using the `zfit` library, the sampler allows to generate samples for different values of $\\mu$. 1000 entries are generated for each sample."
   ]
  },
  {
   "cell_type": "code",
   "execution_count": null,
   "metadata": {
    "pycharm": {
     "name": "#%%\n"
    }
   },
   "outputs": [],
   "source": [
    "bounds = (-10, 10)\n",
    "obs = zfit.Space(\"x\", limits=bounds)\n",
    "\n",
    "mean = zfit.Parameter(\"mean\", 0)\n",
    "sigma = zfit.Parameter(\"sigma\", 1.0)\n",
    "model = zfit.pdf.Gauss(obs=obs, mu=mean, sigma=sigma)\n",
    "\n",
    "data = model.create_sampler(1000)\n",
    "data.resample()"
   ]
  },
  {
   "cell_type": "markdown",
   "metadata": {
    "pycharm": {
     "name": "#%% md\n"
    }
   },
   "source": [
    "Below is defined the negative-likelihood function which is needed to compute Feldman and Cousins intervals as described in [arXiv:1109.0714](https://arxiv.org/abs/1109.0714). The negative-likelihood function is mimised to compute the measured mean $x$ and its uncertainty $\\sigma_x$.  "
   ]
  },
  {
   "cell_type": "code",
   "execution_count": null,
   "metadata": {
    "pycharm": {
     "name": "#%%\n"
    }
   },
   "outputs": [],
   "source": [
    "# Create the negative log likelihood\n",
    "nll = UnbinnedNLL(model=model, data=data)\n",
    "\n",
    "# Instantiate a minuit minimizer\n",
    "minimizer = Minuit(verbosity=0)\n",
    "\n",
    "# minimisation of the loss function\n",
    "minimum = minimizer.minimize(loss=nll)\n",
    "minimum.hesse()\n",
    "\n",
    "x_err = minimum.params[mean][\"hesse\"][\"error\"]"
   ]
  },
  {
   "cell_type": "markdown",
   "metadata": {
    "pycharm": {
     "name": "#%% md\n"
    }
   },
   "source": [
    "\n",
    "\n",
    "To compute the the confidence belt on $\\mu$ 90 % CL intervals have to be computed for several values of the measured mean $x$. Samples are generated for $\\mu = n \\times \\sigma_x$ with $n = -6, -5, -4, ..., 3, 4, 5, 6$, and fitted to measure the mean $x_n$. \n",
    "\n",
    "90 % CL intervals are evaluated for each $x_n$ for the two following cases, $\\mu > 0$ and $\\mu$ unbounded.\n",
    "\n",
    "With `hepstats`, The intervals are obtained with `ConfidenceInterval` object using a calculator. Here the calculator is the `AsymptoticCalculator` which computes the intervals using asymptotic formulae (see [Asymptotic formulae for likelihood-based tests of new physics](https://arxiv.org/pdf/1007.1727.pdf)), an example of a 68 % CL interval with the `AsymptoticCalculator` can be found [here](https://github.com/scikit-hep/hepstats/blob/main/notebooks/hypotests/confidenceinterval_asy_zfit.ipynb).\n",
    "\n",
    "The option `qtilde = True` should be used if $\\mu > 0$."
   ]
  },
  {
   "cell_type": "code",
   "execution_count": null,
   "metadata": {
    "pycharm": {
     "name": "#%%\n"
    }
   },
   "outputs": [],
   "source": [
    "results = {}"
   ]
  },
  {
   "cell_type": "code",
   "execution_count": null,
   "metadata": {
    "pycharm": {
     "name": "#%%\n"
    }
   },
   "outputs": [],
   "source": [
    "for n in np.arange(-6, 7, 1.0):\n",
    "    x = n * x_err\n",
    "\n",
    "    if n not in results:\n",
    "        zfit.settings.set_seed(5)\n",
    "\n",
    "        data.resample(param_values={mean: x})\n",
    "\n",
    "        minimum = minimizer.minimize(loss=nll)\n",
    "        minimum.hesse()\n",
    "\n",
    "        results_n = {}\n",
    "        results_n[\"x\"] = minimum.params[mean][\"value\"]\n",
    "        results_n[\"x_err\"] = minimum.params[mean][\"hesse\"][\"error\"]\n",
    "\n",
    "        calculator = AsymptoticCalculator(minimum, minimizer)\n",
    "\n",
    "        x_min = results_n[\"x\"] - results_n[\"x_err\"] * 3\n",
    "        x_max = results_n[\"x\"] + results_n[\"x_err\"] * 3\n",
    "\n",
    "        if n < -1:\n",
    "            x_max = max(0.5 * results_n[\"x_err\"], x_max)\n",
    "\n",
    "        poinull = POIarray(mean, np.linspace(x_min, x_max, 50))\n",
    "\n",
    "        results_n[\"calculator\"] = calculator\n",
    "        results_n[\"poinull\"] = poinull\n",
    "\n",
    "    else:\n",
    "        results_n = results[n]\n",
    "        calculator = results_n[\"calculator\"]\n",
    "        poinull = results_n[\"poinull\"]\n",
    "\n",
    "    if \"mu_lower\" not in results_n:\n",
    "        for qtilde in [True, False]:\n",
    "            while True:\n",
    "                try:\n",
    "                    ci = ConfidenceInterval(calculator, poinull, qtilde=qtilde)\n",
    "                    interval = ci.interval(alpha=0.05, printlevel=0)\n",
    "                    break\n",
    "                except POIRangeError:\n",
    "                    values = poinull.values\n",
    "                    poinull = POIarray(\n",
    "                        mean,\n",
    "                        np.concatenate([values, [values[-1] + np.diff(values)[0]]]),\n",
    "                    )\n",
    "                    results_n[\"poinull\"] = poinull\n",
    "\n",
    "            if qtilde:\n",
    "                results_n[\"mu_lower\"] = interval[\"lower\"]\n",
    "                results_n[\"mu_upper\"] = interval[\"upper\"]\n",
    "            else:\n",
    "                results_n[\"mu_lower_unbound\"] = interval[\"lower\"]\n",
    "                results_n[\"mu_upper_unbound\"] = interval[\"upper\"]\n",
    "\n",
    "        results[n] = results_n"
   ]
  },
  {
   "cell_type": "markdown",
   "metadata": {
    "pycharm": {
     "name": "#%% md\n"
    }
   },
   "source": [
    "The plot of the confidence belt of $\\mu$ at 90 % CL as function of the measured mean values $x$ (in unit of $\\sigma_x$), for the bounded and unbounded case are shown below."
   ]
  },
  {
   "cell_type": "code",
   "execution_count": null,
   "metadata": {
    "pycharm": {
     "name": "#%%\n"
    }
   },
   "outputs": [],
   "source": [
    "f = plt.figure(figsize=(9, 8))\n",
    "\n",
    "plt.plot(\n",
    "    [v[\"x\"] / v[\"x_err\"] for v in results.values()],\n",
    "    [v[\"mu_upper_unbound\"] / v[\"x_err\"] for v in results.values()],\n",
    "    color=\"black\",\n",
    "    label=\"90 % CL, no boundaries\",\n",
    ")\n",
    "plt.plot(\n",
    "    [v[\"x\"] / v[\"x_err\"] for v in results.values()],\n",
    "    [v[\"mu_lower_unbound\"] / v[\"x_err\"] for v in results.values()],\n",
    "    color=\"black\",\n",
    ")\n",
    "plt.plot(\n",
    "    [v[\"x\"] / v[\"x_err\"] for v in results.values()],\n",
    "    [v[\"mu_upper\"] / v[\"x_err\"] for v in results.values()],\n",
    "    \"--\",\n",
    "    color=\"crimson\",\n",
    "    label=r\"90 % CL, $\\mu > 0$\",\n",
    ")\n",
    "plt.plot(\n",
    "    [v[\"x\"] / v[\"x_err\"] for v in results.values()],\n",
    "    [v[\"mu_lower\"] / v[\"x_err\"] for v in results.values()],\n",
    "    \"--\",\n",
    "    color=\"crimson\",\n",
    ")\n",
    "plt.ylim(0.0)\n",
    "plt.legend(fontsize=15)\n",
    "plt.ylabel(r\"Mean $\\mu$\", fontsize=15)\n",
    "plt.xlabel(\"Measured mean $x$\", fontsize=15);"
   ]
  },
  {
   "cell_type": "markdown",
   "metadata": {
    "pycharm": {
     "name": "#%% md\n"
    }
   },
   "source": [
    "For the unbounded and the $\\mu > 0$ cases the plot reproduces the figure 3 and 10, respectively, of [A Unified Approach to the Classical Statistical Analysis of Small Signals, Gary J. Feldman, Robert D. Cousins](https://arxiv.org/pdf/physics/9711021.pdf)."
   ]
  }
 ],
 "metadata": {
  "kernelspec": {
   "display_name": "Python 3",
   "language": "python",
   "name": "python3"
  },
  "language_info": {
   "codemirror_mode": {
    "name": "ipython",
    "version": 3
   },
   "file_extension": ".py",
   "mimetype": "text/x-python",
   "name": "python",
   "nbconvert_exporter": "python",
   "pygments_lexer": "ipython3",
   "version": "3.7.7"
  }
 },
 "nbformat": 4,
 "nbformat_minor": 4
}
